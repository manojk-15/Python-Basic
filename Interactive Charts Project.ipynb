{
 "cells": [
  {
   "cell_type": "code",
   "execution_count": 8,
   "id": "918d84c7",
   "metadata": {},
   "outputs": [],
   "source": [
    "import ipywidgets\n",
    "import numpy as np\n",
    "import matplotlib.pyplot as plt\n",
    "\n",
    "def plot_fct(w=1):\n",
    "    x = np.random.uniform(0,5, size=100)\n",
    "    y = 2 * x + w * np.random.normal(size=100)\n",
    "    plt.scatter(x,y)"
   ]
  },
  {
   "cell_type": "code",
   "execution_count": 12,
   "id": "003855e8",
   "metadata": {},
   "outputs": [
    {
     "data": {
      "application/vnd.jupyter.widget-view+json": {
       "model_id": "007d7b1cb7374178accb38faab77baeb",
       "version_major": 2,
       "version_minor": 0
      },
      "text/plain": [
       "interactive(children=(FloatSlider(value=1.0, description='w', max=5.0, step=0.5), Output()), _dom_classes=('wi…"
      ]
     },
     "metadata": {},
     "output_type": "display_data"
    },
    {
     "data": {
      "text/plain": [
       "<function __main__.plot_fct(w=1)>"
      ]
     },
     "execution_count": 12,
     "metadata": {},
     "output_type": "execute_result"
    }
   ],
   "source": [
    "\n",
    "ipywidgets.interact(plot_fct, w=(0,50,0.5))"
   ]
  },
  {
   "cell_type": "code",
   "execution_count": 32,
   "id": "042b3d22",
   "metadata": {},
   "outputs": [],
   "source": [
    "from sklearn.datasets import make_moons\n",
    "\n",
    "def plot_moons(samples=200,noise=0):\n",
    "    moons = make_moons(n_samples=samples, noise=noise, random_state=50)\n",
    "    X,y = moons[0], moons[1]\n",
    "    plt.scatter(X[:,0],X[:,1], c=y)"
   ]
  },
  {
   "cell_type": "code",
   "execution_count": 33,
   "id": "ec532eaa",
   "metadata": {},
   "outputs": [
    {
     "data": {
      "application/vnd.jupyter.widget-view+json": {
       "model_id": "3720271b78b640c089a31b973703eb46",
       "version_major": 2,
       "version_minor": 0
      },
      "text/plain": [
       "interactive(children=(Dropdown(description='samples', options=(200, 500, 1000), value=200), FloatSlider(value=…"
      ]
     },
     "metadata": {},
     "output_type": "display_data"
    },
    {
     "data": {
      "text/plain": [
       "<function __main__.plot_moons(samples=200, noise=0)>"
      ]
     },
     "execution_count": 33,
     "metadata": {},
     "output_type": "execute_result"
    }
   ],
   "source": [
    "ipywidgets.interact(plot_moons, samples=[200, 500, 1000], noise=(0,2,0.025))"
   ]
  },
  {
   "cell_type": "code",
   "execution_count": 34,
   "id": "03d6e24f",
   "metadata": {},
   "outputs": [],
   "source": [
    "def plot_sin(start=0, end=30, factor=1, grid=False, plot_cos=False):\n",
    "    X= np.linspace(start,end, (end-start)*10)\n",
    "    y = np.sin(X) * factor\n",
    "    plt.grid(grid)\n",
    "    plt.plot(X,y)\n",
    "    if plot_cos:\n",
    "        y = np.cos(X)\n",
    "        plt.plot(X,y)"
   ]
  },
  {
   "cell_type": "code",
   "execution_count": 36,
   "id": "bd85f2d8",
   "metadata": {},
   "outputs": [
    {
     "data": {
      "application/vnd.jupyter.widget-view+json": {
       "model_id": "99bb588f4fd44917b1f5c152bb04161c",
       "version_major": 2,
       "version_minor": 0
      },
      "text/plain": [
       "interactive(children=(IntSlider(value=0, description='start', max=10), IntSlider(value=30, description='end', …"
      ]
     },
     "metadata": {},
     "output_type": "display_data"
    },
    {
     "data": {
      "text/plain": [
       "<function __main__.plot_sin(start=0, end=30, factor=1, grid=False, plot_cos=False)>"
      ]
     },
     "execution_count": 36,
     "metadata": {},
     "output_type": "execute_result"
    }
   ],
   "source": [
    "ipywidgets.interact(plot_sin, start=(0,10,1), end=(20,50,1), factor=(0,5,0.1), grid=False)"
   ]
  },
  {
   "cell_type": "code",
   "execution_count": 55,
   "id": "cd4b1112",
   "metadata": {},
   "outputs": [],
   "source": [
    "import math\n",
    "def plot_sigmoid(x_in = 0):\n",
    "    X = np.linspace(-5, 5,1000)\n",
    "    y = 1/(1+np.exp(-X))\n",
    "    y_in = 1/(1+math.exp(-x_in))\n",
    "    \n",
    "    plt.plot(X,y)\n",
    "    plt.scatter(x_in, y_in, c=\"r\")\n",
    "    plt.plot([x_in, x_in], [0,y_in], \"r--\")\n",
    "    plt.plot([-5, x_in], [y_in,y_in], \"r--\")\n",
    "    "
   ]
  },
  {
   "cell_type": "code",
   "execution_count": 56,
   "id": "f437bc80",
   "metadata": {},
   "outputs": [
    {
     "data": {
      "application/vnd.jupyter.widget-view+json": {
       "model_id": "975fb68e0f5b499f821eb5e52f9656e4",
       "version_major": 2,
       "version_minor": 0
      },
      "text/plain": [
       "interactive(children=(FloatSlider(value=0.0, description='x_in', max=5.0, min=-5.0), Output()), _dom_classes=(…"
      ]
     },
     "metadata": {},
     "output_type": "display_data"
    },
    {
     "data": {
      "text/plain": [
       "<function __main__.plot_sigmoid(x_in=0)>"
      ]
     },
     "execution_count": 56,
     "metadata": {},
     "output_type": "execute_result"
    }
   ],
   "source": [
    "ipywidgets.interact(plot_sigmoid, x_in=(-5,5,0.1))"
   ]
  },
  {
   "cell_type": "code",
   "execution_count": 72,
   "id": "f20720b7",
   "metadata": {},
   "outputs": [],
   "source": [
    "#Interactive Histogram\n",
    "\n",
    "def plot_hist(mu=0, sigma=1, n=100, bins=10, color=\"blue\" ):\n",
    "    plt.xlim(-20,20)\n",
    "    X = np.random.normal(mu, sigma,n)\n",
    "    plt.hist(X, bins=bins, color=color)\n"
   ]
  },
  {
   "cell_type": "code",
   "execution_count": 73,
   "id": "fe1deef9",
   "metadata": {},
   "outputs": [
    {
     "data": {
      "application/vnd.jupyter.widget-view+json": {
       "model_id": "f0fe50ec135e4468bb2e27a434ff8601",
       "version_major": 2,
       "version_minor": 0
      },
      "text/plain": [
       "interactive(children=(FloatSlider(value=0.0, description='mu', max=10.0, min=-10.0, step=0.5), FloatSlider(val…"
      ]
     },
     "metadata": {},
     "output_type": "display_data"
    },
    {
     "data": {
      "text/plain": [
       "<function __main__.plot_hist(mu=0, sigma=1, n=100, bins=10, color='blue')>"
      ]
     },
     "execution_count": 73,
     "metadata": {},
     "output_type": "execute_result"
    }
   ],
   "source": [
    "ipywidgets.interact(plot_hist, mu=(-10,10,0.5), sigma=(0,10,0.1), n=(10,1000,1), bins=(1,100,1), color=[\"red\",\"green\",\"blue\"])"
   ]
  },
  {
   "cell_type": "code",
   "execution_count": null,
   "id": "a2053d62",
   "metadata": {},
   "outputs": [],
   "source": []
  }
 ],
 "metadata": {
  "kernelspec": {
   "display_name": "Python 3 (ipykernel)",
   "language": "python",
   "name": "python3"
  },
  "language_info": {
   "codemirror_mode": {
    "name": "ipython",
    "version": 3
   },
   "file_extension": ".py",
   "mimetype": "text/x-python",
   "name": "python",
   "nbconvert_exporter": "python",
   "pygments_lexer": "ipython3",
   "version": "3.11.5"
  }
 },
 "nbformat": 4,
 "nbformat_minor": 5
}
